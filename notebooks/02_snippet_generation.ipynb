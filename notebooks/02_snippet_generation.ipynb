{
 "cells": [
  {
   "cell_type": "code",
   "execution_count": 2,
   "id": "51aa258f",
   "metadata": {},
   "outputs": [],
   "source": [
    "import sys\n",
    "import os\n",
    "\n",
    "sys.path.append(os.path.abspath(os.path.join(os.getcwd(), \"..\")))"
   ]
  },
  {
   "cell_type": "code",
   "execution_count": 5,
   "id": "a5aca681",
   "metadata": {},
   "outputs": [],
   "source": [
    "import pandas as pd\n",
    "from src.config import RAW_DIR, PROCESSED_DIR\n",
    "\n",
    "pbp = pd.read_parquet(RAW_DIR / \"pbp_2018_2024.parquet\")\n",
    "ftn = pd.read_parquet(RAW_DIR / \"ftn_2022_2024.parquet\")\n",
    "player_stats = pd.read_parquet(PROCESSED_DIR / \"player_stats_2018_2024.parquet\")\n",
    "depth_charts = pd.read_parquet(RAW_DIR / \"depth_charts_2018_2024.parquet\")\n",
    "injuries = pd.read_parquet(RAW_DIR / \"injuries_2018_2024.parquet\")\n",
    "rosters = pd.read_parquet(RAW_DIR / \"rosters_2018_2024.parquet\")\n",
    "schedules = pd.read_parquet(RAW_DIR / \"schedules.parquet\")\n",
    "snaps = pd.read_parquet(RAW_DIR / \"snaps_2018_2024.parquet\")\n",
    "trades = pd.read_parquet(RAW_DIR / \"trades_2018_2024.parquet\")\n",
    "player_profiles = pd.read_parquet(PROCESSED_DIR / \"player_profiles.parquet\")"
   ]
  },
  {
   "cell_type": "code",
   "execution_count": 6,
   "id": "6239fdb6",
   "metadata": {},
   "outputs": [
    {
     "data": {
      "text/plain": [
       "<bound method IndexOpsMixin.tolist of Index(['gsis_id', 'player_name', 'player_display_name', 'position',\n",
       "       'position_group', 'headshot_url', 'recent_team', 'season', 'week',\n",
       "       'season_type', 'opponent_team', 'completions', 'attempts',\n",
       "       'passing_yards', 'passing_tds', 'interceptions', 'sacks', 'sack_yards',\n",
       "       'sack_fumbles', 'sack_fumbles_lost', 'passing_air_yards',\n",
       "       'passing_yards_after_catch', 'passing_first_downs', 'passing_epa',\n",
       "       'passing_2pt_conversions', 'pacr', 'dakota', 'carries', 'rushing_yards',\n",
       "       'rushing_tds', 'rushing_fumbles', 'rushing_fumbles_lost',\n",
       "       'rushing_first_downs', 'rushing_epa', 'rushing_2pt_conversions',\n",
       "       'receptions', 'targets', 'receiving_yards', 'receiving_tds',\n",
       "       'receiving_fumbles', 'receiving_fumbles_lost', 'receiving_air_yards',\n",
       "       'receiving_yards_after_catch', 'receiving_first_downs', 'receiving_epa',\n",
       "       'receiving_2pt_conversions', 'racr', 'target_share', 'air_yards_share',\n",
       "       'wopr', 'special_teams_tds', 'fantasy_points', 'fantasy_points_ppr',\n",
       "       'pfr_id'],\n",
       "      dtype='object')>"
      ]
     },
     "execution_count": 6,
     "metadata": {},
     "output_type": "execute_result"
    }
   ],
   "source": [
    "player_stats.columns.to_list"
   ]
  },
  {
   "cell_type": "code",
   "execution_count": 7,
   "id": "1ded7532",
   "metadata": {},
   "outputs": [],
   "source": [
    "def generate_combined_weekly_snippets(player_stats, depth_charts, snaps):\n",
    "\n",
    "    stats_snippets = []\n",
    "\n",
    "    depth_dict = {(row[\"gsis_id\"], row[\"season\"], row[\"week\"]): row for _, row in depth_charts.iterrows()}\n",
    "    snap_dict = {(row[\"pfr_player_id\"], row[\"season\"], row[\"week\"]): row for _, row in snaps.iterrows()}\n",
    "    for _, row in player_stats.iterrows():\n",
    "        player_name = row.get(\"player_display_name\", \"Unknown\")\n",
    "        position = row.get(\"position\", \"Unknown\")\n",
    "        team = row.get(\"recent_team\", \"Unknown\")\n",
    "        week = row.get(\"week\")\n",
    "        season = row.get(\"season\")\n",
    "        opponent = row.get(\"opponent_team\", \"Unknown\")\n",
    "        player_id = row.get(\"gsis_id\", None)\n",
    "        pfr_id = row.get(\"pfr_id\", None)\n",
    "\n",
    "        parts = [f\"{player_name} ({position}, {team}), Week {week}, {season} vs. {opponent}:\"]\n",
    "\n",
    "        if row.get(\"attempts\", 0) > 0:\n",
    "            parts.append(f\"Passing: {row[\"completions\"]}/{row[\"attempts\"]}, {row[\"passing_yards\"]} yards, {row[\"passing_tds\"]} TDs, {row[\"interceptions\"]} INTs, {row[\"passing_epa\"]} EPA)\")\n",
    "        if row.get(\"carries\", 0) > 0:\n",
    "            parts.append(f\"Rushing: {row[\"carries\"]} carries, {row[\"rushing_yards\"]} yards, {row[\"rushing_fumbles\"]} fumbles, {row[\"rushing_tds\"]} TDs, {row[\"rushing_epa\"]} EPA\")\n",
    "        if row.get(\"targets\", 0) > 0:\n",
    "            parts.append(f\"Receiving: {row[\"targets\"]} targets, {row[\"receptions\"]} receptions, {row[\"receiving_yards\"]} yards, {row[\"receiving_fumbles\"]} fumbles, {row[\"receiving_tds\"]} TDs, {row[\"receiving_yards_after_catch\"]} yards after catch, {row[\"receiving_epa\"]} EPA, {row[\"target_share\"]} target share)\")\n",
    "        if \"fantasy_points_ppr\" in row:\n",
    "            parts.append(f\"Fantasy (PPR): {row[\"fantasy_points_ppr\"]:.1f} pts\")\n",
    "\n",
    "        depth_row = depth_dict.get((player_id, season, week))\n",
    "        if depth_row is not None:\n",
    "            position_depth = depth_row.get(\"depth_team\", \"N/A\")\n",
    "            parts.append(f\"Depth Chart: {position_depth}\")\n",
    "\n",
    "        snap_row = snap_dict.get((pfr_id, season, week))\n",
    "        if snap_row is not None:\n",
    "            off_snaps = snap_row.get(\"offense_snaps\", 0)\n",
    "            off_snap_pct = snap_row.get(\"offense_pct\", 0)\n",
    "            def_snaps = snap_row.get(\"defense_snaps\", 0)\n",
    "            def_snap_pct = snap_row.get(\"defense_pct\", 0)\n",
    "            st_snaps = snap_row.get(\"st_snaps\", 0)\n",
    "            st_snap_pct = snap_row.get(\"st_pct\", 0)\n",
    "            parts.append(f\"{off_snaps} offensive snaps, {off_snap_pct} offensive snap %, {def_snaps} defensive snaps, {def_snap_pct} defensive snap %, {st_snaps} special teams snaps, {st_snap_pct} special teams snap %\")\n",
    "        \n",
    "        snippet = \" | \".join(parts)\n",
    "        stats_snippets.append(snippet)\n",
    "\n",
    "    return stats_snippets"
   ]
  },
  {
   "cell_type": "code",
   "execution_count": 8,
   "id": "1e2333aa",
   "metadata": {},
   "outputs": [],
   "source": [
    "combined_snippets = generate_combined_weekly_snippets(player_stats=player_stats, depth_charts=depth_charts, snaps=snaps)"
   ]
  },
  {
   "cell_type": "code",
   "execution_count": 10,
   "id": "89f53d5d",
   "metadata": {},
   "outputs": [],
   "source": [
    "from src.config import KNOWLEDGE_DIR\n",
    "\n",
    "with open(KNOWLEDGE_DIR / \"player_weekly_comnined_snippets.txt\", \"w\") as f:\n",
    "    for snippet in combined_snippets:\n",
    "        f.write(snippet + \"\\n\")"
   ]
  }
 ],
 "metadata": {
  "kernelspec": {
   "display_name": "nfl_llm",
   "language": "python",
   "name": "python3"
  },
  "language_info": {
   "codemirror_mode": {
    "name": "ipython",
    "version": 3
   },
   "file_extension": ".py",
   "mimetype": "text/x-python",
   "name": "python",
   "nbconvert_exporter": "python",
   "pygments_lexer": "ipython3",
   "version": "3.12.11"
  }
 },
 "nbformat": 4,
 "nbformat_minor": 5
}
